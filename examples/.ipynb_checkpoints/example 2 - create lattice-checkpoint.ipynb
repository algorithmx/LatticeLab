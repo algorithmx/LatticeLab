{
 "cells": [
  {
   "cell_type": "code",
   "execution_count": 1,
   "id": "7b0b2bad-b00d-4b72-93d9-32dd5246fc34",
   "metadata": {},
   "outputs": [],
   "source": [
    "using Pkg; Pkg.activate(\"../\");\n",
    "using LatticeLab"
   ]
  },
  {
   "cell_type": "code",
   "execution_count": 14,
   "id": "ee27c20b-43b7-4ece-bb11-e154ad86284f",
   "metadata": {},
   "outputs": [],
   "source": [
    "a1 = [1, 0]\n",
    "a2 = [1/2, sqrt(3)/2]\n",
    "d1 = [ sqrt(3)/2, 1/2]\n",
    "d2 = [-sqrt(3)/2, 1/2]\n",
    "d3 = [         0,  -1] ;"
   ]
  },
  {
   "cell_type": "code",
   "execution_count": 21,
   "id": "389c923c-c6d5-471a-a649-ef0ace1c38b3",
   "metadata": {},
   "outputs": [
    {
     "data": {
      "text/plain": [
       "3.0"
      ]
     },
     "execution_count": 21,
     "metadata": {},
     "output_type": "execute_result"
    }
   ],
   "source": [
    "a2[1]^2+a2[2]^2"
   ]
  },
  {
   "cell_type": "code",
   "execution_count": 19,
   "id": "69ee38bb-7361-431a-a230-5eb67e520c6f",
   "metadata": {},
   "outputs": [],
   "source": [
    "BBOX(m,n) = ([-0.001,-0.001], # origin\n",
    "             [1 0 ; 0 1],                 # supercell basis\n",
    "             [m,n],                       # supercell shifts\n",
    "             [true,true])                 # P.B.C. conditions\n",
    "\n",
    "\n",
    "aa = hcat( 2 .*a1, 2 .*a2 ) |> Coordinates\n",
    "dd = hcat( [0,0], a1, a2) |> Coordinates\n",
    "mm = [ :A,    :B,    :C     ] |> Masses\n",
    "xx = [ [:pz,],[:pz,],[:pz,] ] .|> Orbits\n",
    "\n",
    "UC_Kagome = UnitCell(2, 3, aa, dd, mm, xx) ;\n",
    "\n",
    "LN_Kagome = LatticeLab.link_info_by_distance_direction(\n",
    "    Dict(:t => (1,[]),), # symbol => (distance, (directions))\n",
    "    UC_Kagome;\n",
    "    bounding_box = BBOX(1,1),\n",
    "    rounding_digits=6\n",
    ") ;"
   ]
  },
  {
   "cell_type": "code",
   "execution_count": 17,
   "id": "30befc14-e975-42fe-966b-1fd656c2fb87",
   "metadata": {},
   "outputs": [
    {
     "name": "stdout",
     "output_type": "stream",
     "text": [
      "  0.003918 seconds (69.50 k allocations: 4.351 MiB)\n",
      "  0.000149 seconds (2.64 k allocations: 130.266 KiB)\n"
     ]
    },
    {
     "name": "stderr",
     "output_type": "stream",
     "text": [
      "┌ Info: build_lattice() : \n",
      "│ \t\t margin = 1\n",
      "└ @ LatticeLab /home/dabajabaza/jianguoyun/Nutstore/LatticeLab/src/lattice/build_lattice.jl:256\n",
      "┌ Info: generate_R0_compute_EqV() : \n",
      "│ \t\t bbox = ([-0.0006516666429744691, -0.00036278063848508045], [1 0; 0 1], [3, 3], Bool[1, 1])\n",
      "│ \t\t N_min, N_max = ([-2, -2], [5, 5])\n",
      "└ @ LatticeLab /home/dabajabaza/jianguoyun/Nutstore/LatticeLab/src/lattice/build_lattice.jl:39\n",
      "┌ Info: generate_R0_compute_EqV() : compute EqV ...\n",
      "└ @ LatticeLab /home/dabajabaza/jianguoyun/Nutstore/LatticeLab/src/lattice/build_lattice.jl:53\n",
      "┌ Info: generate_f() : main loop ...\n",
      "└ @ LatticeLab /home/dabajabaza/jianguoyun/Nutstore/LatticeLab/src/lattice/build_lattice.jl:180\n"
     ]
    }
   ],
   "source": [
    "Kagome = build_lattice(LN_Kagome,BBOX(3,3)) ;"
   ]
  },
  {
   "cell_type": "code",
   "execution_count": 18,
   "id": "ffb1b3bf-2228-4355-beb7-a9fcb4308dc4",
   "metadata": {
    "tags": []
   },
   "outputs": [
    {
     "data": {
      "image/svg+xml": [
       "<svg width=\"667.8461\" height=\"400.0\">\n",
       "<path d=\"M 140.0,380.0 L 80.0,380.0 M 80.0,380.0 L 140.0,380.0 M 200.0,380.0 L 140.0,380.0 M 140.0,380.0 L 200.0,380.0 M 260.0,380.0 L 200.0,380.0 M 200.0,380.0 L 260.0,380.0 M 320.0,380.0 L 260.0,380.0 M 260.0,380.0 L 320.0,380.0 M 380.0,380.0 L 320.0,380.0 M 320.0,380.0 L 380.0,380.0 M 243.92305,200.0 L 183.92305,200.0 M 183.92305,200.0 L 243.92305,200.0 M 303.92305,200.0 L 243.92305,200.0 M 243.92305,200.0 L 303.92305,200.0 M 363.92305,200.0 L 303.92305,200.0 M 303.92305,200.0 L 363.92305,200.0 M 423.92305,200.0 L 363.92305,200.0 M 363.92305,200.0 L 423.92305,200.0 M 483.92305,200.0 L 423.92305,200.0 M 423.92305,200.0 L 483.92305,200.0 M 347.8461,20.0 L 287.8461,20.0 M 287.8461,20.0 L 347.8461,20.0 M 407.8461,20.0 L 347.8461,20.0 M 347.8461,20.0 L 407.8461,20.0 M 467.8461,20.0 L 407.8461,20.0 M 407.8461,20.0 L 467.8461,20.0 M 527.8461,20.0 L 467.8461,20.0 M 467.8461,20.0 L 527.8461,20.0 M 587.8461,20.0 L 527.8461,20.0 M 527.8461,20.0 L 587.8461,20.0\"  style=\"stroke:black;stroke-width:3.0\" />\n",
       "<path d=\"M 80.0,380.0 L 20.0,380.0 M 20.0,380.0 L 80.0,380.0 M 440.0,380.0 L 380.0,380.0 M 380.0,380.0 L 440.0,380.0 M 183.92305,200.0 L 123.92305,200.0 M 123.92305,200.0 L 183.92305,200.0 M 543.92305,200.0 L 483.92305,200.0 M 483.92305,200.0 L 543.92305,200.0 M 287.8461,20.0 L 227.8461,20.0 M 227.8461,20.0 L 287.8461,20.0 M 647.8461,20.0 L 587.8461,20.0 M 587.8461,20.0 L 647.8461,20.0\"  style=\"stroke:gray;stroke-width:1.854\" />\n",
       "<path d=\"M 16.292,380.0 a 3.708,3.708 0 1,0 7.416,0  a 3.708,3.708 0 1,0 -7.416,0  M 436.292,380.0 a 3.708,3.708 0 1,0 7.416,0  a 3.708,3.708 0 1,0 -7.416,0  M 120.21505,200.0 a 3.708,3.708 0 1,0 7.416,0  a 3.708,3.708 0 1,0 -7.416,0  M 540.21505,200.0 a 3.708,3.708 0 1,0 7.416,0  a 3.708,3.708 0 1,0 -7.416,0  M 224.1381,20.0 a 3.708,3.708 0 1,0 7.416,0  a 3.708,3.708 0 1,0 -7.416,0  M 644.1381,20.0 a 3.708,3.708 0 1,0 7.416,0  a 3.708,3.708 0 1,0 -7.416,0 \"  stroke=\"gray\" stroke-width=\"0.0\"  stroke-opacity=\"1\" fill-opacity=\"1\"  fill=\"gray\" />\n",
       "<path d=\"M 134.0,380.0 a 6.0,6.0 0 1,0 12.0,0  a 6.0,6.0 0 1,0 -12.0,0  M 254.0,380.0 a 6.0,6.0 0 1,0 12.0,0  a 6.0,6.0 0 1,0 -12.0,0  M 374.0,380.0 a 6.0,6.0 0 1,0 12.0,0  a 6.0,6.0 0 1,0 -12.0,0  M 237.92305,200.0 a 6.0,6.0 0 1,0 12.0,0  a 6.0,6.0 0 1,0 -12.0,0  M 357.92305,200.0 a 6.0,6.0 0 1,0 12.0,0  a 6.0,6.0 0 1,0 -12.0,0  M 477.92305,200.0 a 6.0,6.0 0 1,0 12.0,0  a 6.0,6.0 0 1,0 -12.0,0  M 341.8461,20.0 a 6.0,6.0 0 1,0 12.0,0  a 6.0,6.0 0 1,0 -12.0,0  M 461.8461,20.0 a 6.0,6.0 0 1,0 12.0,0  a 6.0,6.0 0 1,0 -12.0,0  M 581.8461,20.0 a 6.0,6.0 0 1,0 12.0,0  a 6.0,6.0 0 1,0 -12.0,0 \"  stroke=\"green\" stroke-width=\"0.0\"  stroke-opacity=\"1\" fill-opacity=\"1\"  fill=\"green\" />\n",
       "<path d=\"M 74.0,380.0 a 6.0,6.0 0 1,0 12.0,0  a 6.0,6.0 0 1,0 -12.0,0  M 194.0,380.0 a 6.0,6.0 0 1,0 12.0,0  a 6.0,6.0 0 1,0 -12.0,0  M 314.0,380.0 a 6.0,6.0 0 1,0 12.0,0  a 6.0,6.0 0 1,0 -12.0,0  M 177.92305,200.0 a 6.0,6.0 0 1,0 12.0,0  a 6.0,6.0 0 1,0 -12.0,0  M 297.92305,200.0 a 6.0,6.0 0 1,0 12.0,0  a 6.0,6.0 0 1,0 -12.0,0  M 417.92305,200.0 a 6.0,6.0 0 1,0 12.0,0  a 6.0,6.0 0 1,0 -12.0,0  M 281.8461,20.0 a 6.0,6.0 0 1,0 12.0,0  a 6.0,6.0 0 1,0 -12.0,0  M 401.8461,20.0 a 6.0,6.0 0 1,0 12.0,0  a 6.0,6.0 0 1,0 -12.0,0  M 521.8461,20.0 a 6.0,6.0 0 1,0 12.0,0  a 6.0,6.0 0 1,0 -12.0,0 \"  stroke=\"red\" stroke-width=\"0.0\"  stroke-opacity=\"1\" fill-opacity=\"1\"  fill=\"red\" />\n",
       "<path d=\"M 77.70846,380.0 a 2.291544,2.291544 0 1,0 4.583088,0  a 2.291544,2.291544 0 1,0 -4.583088,0 \"  stroke=\"yellow\" stroke-width=\"0.0\"  stroke-opacity=\"1\" fill-opacity=\"1\"  fill=\"yellow\" />\n",
       "</svg>"
      ]
     },
     "metadata": {},
     "output_type": "display_data"
    }
   ],
   "source": [
    "VSTYLE = Dict(\n",
    "    :A=>(\"red\",  6.0,:dot),\n",
    "    :B=>(\"green\",6.0,:dot),\n",
    "    :C=>(\"blue\", 6.0,:dot)\n",
    ")\n",
    "ESTYLE = Dict(\n",
    "    :t=>(\"black\", 3.0,:solid),\n",
    ")\n",
    "display(\"image/svg+xml\", show_lattice_svg(Kagome, VSTYLE, ESTYLE; upscale=60))"
   ]
  },
  {
   "cell_type": "code",
   "execution_count": null,
   "id": "0edd365c-bc2f-4838-889e-bdf4cf2eb9a2",
   "metadata": {},
   "outputs": [],
   "source": []
  }
 ],
 "metadata": {
  "kernelspec": {
   "display_name": "Julia 1.6.1",
   "language": "julia",
   "name": "julia-1.6"
  },
  "language_info": {
   "file_extension": ".jl",
   "mimetype": "application/julia",
   "name": "julia",
   "version": "1.6.1"
  }
 },
 "nbformat": 4,
 "nbformat_minor": 5
}
