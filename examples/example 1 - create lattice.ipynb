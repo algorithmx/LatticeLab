{
 "cells": [
  {
   "cell_type": "code",
   "execution_count": 1,
   "id": "7b0b2bad-b00d-4b72-93d9-32dd5246fc34",
   "metadata": {},
   "outputs": [],
   "source": [
    "using Pkg; Pkg.activate(\"../\");\n",
    "using LatticeLab"
   ]
  },
  {
   "cell_type": "code",
   "execution_count": 2,
   "id": "ee27c20b-43b7-4ece-bb11-e154ad86284f",
   "metadata": {},
   "outputs": [],
   "source": [
    "d1 = [ sqrt(3)/2, 1/2]\n",
    "d2 = [-sqrt(3)/2, 1/2]\n",
    "d3 = [         0,  -1] ;"
   ]
  },
  {
   "cell_type": "code",
   "execution_count": 4,
   "id": "69ee38bb-7361-431a-a230-5eb67e520c6f",
   "metadata": {},
   "outputs": [],
   "source": [
    "BBOX(m,n) = ([-0.00021,-0.0001], # origin\n",
    "             [1 0 ; 0 1],                 # supercell basis\n",
    "             [m,n],                       # supercell shifts\n",
    "             [true,true])                 # P.B.C. conditions\n",
    "\n",
    "UC_Honeycomb = LatticeLab.UnitCell(\n",
    "    2,                  # dimension\n",
    "    2,                  # number of sublattices\n",
    "    [sqrt(3) sqrt(3)/2 \n",
    "     0             3/2],# Bravais basis\n",
    "    [0       sqrt(3)/2\n",
    "     0             1/2],# sublattice coordinates  \n",
    "    [ :A,    :B  ],     # sublattice symbols\n",
    "    [[:pz], [:pz]]      # orbits \n",
    ") ;\n",
    "\n",
    "UC_LN = LatticeLab.link_info_by_distance_direction(\n",
    "    Dict( :tr => (1,[d1,-d1]),\n",
    "          :tg => (1,[d2,-d2]),\n",
    "          :tb => (1,[d3,-d3]), ), # symbol => (distance, (directions))\n",
    "    UC_Honeycomb;\n",
    "    bounding_box = BBOX(1,1),\n",
    "    rounding_digits=12\n",
    ") ;"
   ]
  },
  {
   "cell_type": "code",
   "execution_count": 5,
   "id": "30befc14-e975-42fe-966b-1fd656c2fb87",
   "metadata": {},
   "outputs": [
    {
     "name": "stderr",
     "output_type": "stream",
     "text": [
      "┌ Info: build_lattice() : \n",
      "│ \t\t margin = 1\n",
      "└ @ LatticeLab /home/dabajabaza/jianguoyun/Nutstore/LatticeLab/src/lattice/build_lattice.jl:256\n",
      "┌ Info: generate_R0_compute_EqV() : \n",
      "│ \t\t bbox = ([-0.00021, -0.0001], [1 0; 0 1], [3, 3], Bool[1, 1])\n",
      "│ \t\t N_min, N_max = ([-2, -2], [5, 5])\n",
      "└ @ LatticeLab /home/dabajabaza/jianguoyun/Nutstore/LatticeLab/src/lattice/build_lattice.jl:39\n",
      "┌ Info: generate_R0_compute_EqV() : compute EqV ...\n",
      "└ @ LatticeLab /home/dabajabaza/jianguoyun/Nutstore/LatticeLab/src/lattice/build_lattice.jl:53\n"
     ]
    },
    {
     "name": "stdout",
     "output_type": "stream",
     "text": [
      "  0.364391 seconds (1.12 M allocations: 65.246 MiB, 5.69% gc time, 99.05% compilation time)\n"
     ]
    },
    {
     "name": "stderr",
     "output_type": "stream",
     "text": [
      "┌ Info: generate_f() : main loop ...\n",
      "└ @ LatticeLab /home/dabajabaza/jianguoyun/Nutstore/LatticeLab/src/lattice/build_lattice.jl:180\n"
     ]
    },
    {
     "name": "stdout",
     "output_type": "stream",
     "text": [
      "  0.623223 seconds (2.44 M allocations: 127.993 MiB, 4.97% gc time, 99.93% compilation time)\n"
     ]
    }
   ],
   "source": [
    "Graphene = build_lattice(UC_LN,BBOX(3,3)) ;"
   ]
  },
  {
   "cell_type": "code",
   "execution_count": 6,
   "id": "ffb1b3bf-2228-4355-beb7-a9fcb4308dc4",
   "metadata": {
    "tags": []
   },
   "outputs": [
    {
     "data": {
      "image/svg+xml": [
       "<svg width=\"507.65372\" height=\"370.0\">\n",
       "<path d=\"M 175.88457,290.0 L 123.92305,260.0 M 123.92305,260.0 L 175.88457,290.0 M 279.80762,290.0 L 227.8461,260.0 M 227.8461,260.0 L 279.80762,290.0 M 227.8461,200.0 L 175.88457,170.0 M 175.88457,170.0 L 227.8461,200.0 M 331.76915,200.0 L 279.80762,170.0 M 279.80762,170.0 L 331.76915,200.0 M 279.80762,110.0 L 227.8461,80.0 M 227.8461,80.0 L 279.80762,110.0 M 383.73067,110.0 L 331.76915,80.0 M 331.76915,80.0 L 383.73067,110.0\"  style=\"stroke:green;stroke-width:3.0\" />\n",
       "<path d=\"M 123.92305,260.0 L 71.96152,290.0 M 71.96152,290.0 L 123.92305,260.0 M 227.8461,260.0 L 175.88457,290.0 M 175.88457,290.0 L 227.8461,260.0 M 331.76915,260.0 L 279.80762,290.0 M 279.80762,290.0 L 331.76915,260.0 M 175.88457,170.0 L 123.92305,200.0 M 123.92305,200.0 L 175.88457,170.0 M 279.80762,170.0 L 227.8461,200.0 M 227.8461,200.0 L 279.80762,170.0 M 383.73067,170.0 L 331.76915,200.0 M 331.76915,200.0 L 383.73067,170.0 M 227.8461,80.0 L 175.88457,110.0 M 175.88457,110.0 L 227.8461,80.0 M 331.76915,80.0 L 279.80762,110.0 M 279.80762,110.0 L 331.76915,80.0 M 435.69219,80.0 L 383.73067,110.0 M 383.73067,110.0 L 435.69219,80.0\"  style=\"stroke:red;stroke-width:3.0\" />\n",
       "<path d=\"M 123.92305,200.0 L 123.92305,260.0 M 227.8461,200.0 L 227.8461,260.0 M 331.76915,200.0 L 331.76915,260.0 M 123.92305,260.0 L 123.92305,200.0 M 175.88457,110.0 L 175.88457,170.0 M 227.8461,260.0 L 227.8461,200.0 M 279.80762,110.0 L 279.80762,170.0 M 331.76915,260.0 L 331.76915,200.0 M 383.73067,110.0 L 383.73067,170.0 M 175.88457,170.0 L 175.88457,110.0 M 279.80762,170.0 L 279.80762,110.0 M 383.73067,170.0 L 383.73067,110.0\"  style=\"stroke:blue;stroke-width:3.0\" />\n",
       "<path d=\"M 71.96152,290.0 L 71.96152,350.0 M 175.88457,290.0 L 175.88457,350.0 M 279.80762,290.0 L 279.80762,350.0 M 71.96152,290.0 L 20.0,260.0 M 71.96152,350.0 L 71.96152,290.0 M 20.0,260.0 L 71.96152,290.0 M 175.88457,350.0 L 175.88457,290.0 M 279.80762,350.0 L 279.80762,290.0 M 383.73067,290.0 L 331.76915,260.0 M 331.76915,260.0 L 383.73067,290.0 M 123.92305,200.0 L 71.96152,170.0 M 71.96152,170.0 L 123.92305,200.0 M 435.69219,200.0 L 383.73067,170.0 M 383.73067,170.0 L 435.69219,200.0 M 175.88457,110.0 L 123.92305,80.0 M 123.92305,80.0 L 175.88457,110.0 M 227.8461,20.0 L 227.8461,80.0 M 331.76915,20.0 L 331.76915,80.0 M 487.65372,110.0 L 435.69219,80.0 M 435.69219,20.0 L 435.69219,80.0 M 435.69219,80.0 L 487.65372,110.0 M 227.8461,80.0 L 227.8461,20.0 M 331.76915,80.0 L 331.76915,20.0 M 435.69219,80.0 L 435.69219,20.0\"  style=\"stroke:gray;stroke-width:1.854\" />\n",
       "<path d=\"M 65.96152,290.0 a 6.0,6.0 0 1,0 12.0,0  a 6.0,6.0 0 1,0 -12.0,0  M 169.88457,290.0 a 6.0,6.0 0 1,0 12.0,0  a 6.0,6.0 0 1,0 -12.0,0  M 273.80762,290.0 a 6.0,6.0 0 1,0 12.0,0  a 6.0,6.0 0 1,0 -12.0,0  M 117.92305,200.0 a 6.0,6.0 0 1,0 12.0,0  a 6.0,6.0 0 1,0 -12.0,0  M 221.8461,200.0 a 6.0,6.0 0 1,0 12.0,0  a 6.0,6.0 0 1,0 -12.0,0  M 325.76915,200.0 a 6.0,6.0 0 1,0 12.0,0  a 6.0,6.0 0 1,0 -12.0,0  M 169.88457,110.0 a 6.0,6.0 0 1,0 12.0,0  a 6.0,6.0 0 1,0 -12.0,0  M 273.80762,110.0 a 6.0,6.0 0 1,0 12.0,0  a 6.0,6.0 0 1,0 -12.0,0  M 377.73067,110.0 a 6.0,6.0 0 1,0 12.0,0  a 6.0,6.0 0 1,0 -12.0,0 \"  stroke=\"black\" stroke-width=\"0.0\"  stroke-opacity=\"1\" fill-opacity=\"1\"  fill=\"black\" />\n",
       "<path d=\"M 380.02267,290.0 a 3.708,3.708 0 1,0 7.416,0  a 3.708,3.708 0 1,0 -7.416,0  M 431.98419,200.0 a 3.708,3.708 0 1,0 7.416,0  a 3.708,3.708 0 1,0 -7.416,0  M 483.94572,110.0 a 3.708,3.708 0 1,0 7.416,0  a 3.708,3.708 0 1,0 -7.416,0  M 224.1381,20.0 a 3.708,3.708 0 1,0 7.416,0  a 3.708,3.708 0 1,0 -7.416,0  M 328.06115,20.0 a 3.708,3.708 0 1,0 7.416,0  a 3.708,3.708 0 1,0 -7.416,0  M 431.98419,20.0 a 3.708,3.708 0 1,0 7.416,0  a 3.708,3.708 0 1,0 -7.416,0 \"  stroke=\"gray\" stroke-width=\"0.0\"  stroke-opacity=\"1\" fill-opacity=\"1\"  fill=\"gray\" />\n",
       "<path d=\"M 68.25352,350.0 a 3.708,3.708 0 1,0 7.416,0  a 3.708,3.708 0 1,0 -7.416,0  M 172.17657,350.0 a 3.708,3.708 0 1,0 7.416,0  a 3.708,3.708 0 1,0 -7.416,0  M 276.09962,350.0 a 3.708,3.708 0 1,0 7.416,0  a 3.708,3.708 0 1,0 -7.416,0  M 16.292,260.0 a 3.708,3.708 0 1,0 7.416,0  a 3.708,3.708 0 1,0 -7.416,0  M 68.25352,170.0 a 3.708,3.708 0 1,0 7.416,0  a 3.708,3.708 0 1,0 -7.416,0  M 120.21505,80.0 a 3.708,3.708 0 1,0 7.416,0  a 3.708,3.708 0 1,0 -7.416,0 \"  stroke=\"gray\" stroke-width=\"1.41646\"  stroke-opacity=\"1\" fill-opacity=\"1\"  fill=\"none\" />\n",
       "<path d=\"M 117.92305,260.0 a 6.0,6.0 0 1,0 12.0,0  a 6.0,6.0 0 1,0 -12.0,0  M 221.8461,260.0 a 6.0,6.0 0 1,0 12.0,0  a 6.0,6.0 0 1,0 -12.0,0  M 325.76915,260.0 a 6.0,6.0 0 1,0 12.0,0  a 6.0,6.0 0 1,0 -12.0,0  M 169.88457,170.0 a 6.0,6.0 0 1,0 12.0,0  a 6.0,6.0 0 1,0 -12.0,0  M 273.80762,170.0 a 6.0,6.0 0 1,0 12.0,0  a 6.0,6.0 0 1,0 -12.0,0  M 377.73067,170.0 a 6.0,6.0 0 1,0 12.0,0  a 6.0,6.0 0 1,0 -12.0,0  M 221.8461,80.0 a 6.0,6.0 0 1,0 12.0,0  a 6.0,6.0 0 1,0 -12.0,0  M 325.76915,80.0 a 6.0,6.0 0 1,0 12.0,0  a 6.0,6.0 0 1,0 -12.0,0  M 429.69219,80.0 a 6.0,6.0 0 1,0 12.0,0  a 6.0,6.0 0 1,0 -12.0,0 \"  stroke=\"black\" stroke-width=\"2.292\"  stroke-opacity=\"1\" fill-opacity=\"1\"  fill=\"none\" />\n",
       "<path d=\"M 69.66998,290.0 a 2.291544,2.291544 0 1,0 4.583088,0  a 2.291544,2.291544 0 1,0 -4.583088,0 \"  stroke=\"yellow\" stroke-width=\"0.0\"  stroke-opacity=\"1\" fill-opacity=\"1\"  fill=\"yellow\" />\n",
       "</svg>"
      ]
     },
     "metadata": {},
     "output_type": "display_data"
    }
   ],
   "source": [
    "VSTYLE = Dict(\n",
    "    :A=>(\"black\",6.0,:dot),\n",
    "    :B=>(\"black\",6.0,:circle)\n",
    ")\n",
    "ESTYLE = Dict(\n",
    "    :tr=>(\"red\",  3.0,:solid),\n",
    "    :tg=>(\"green\",3.0,:solid),\n",
    "    :tb=>(\"blue\", 3.0,:solid),\n",
    ")\n",
    "display(\"image/svg+xml\", show_lattice_svg(Graphene, VSTYLE, ESTYLE; upscale=60))"
   ]
  },
  {
   "cell_type": "code",
   "execution_count": 1,
   "id": "a24e2119-e57f-4617-8b87-11d748776785",
   "metadata": {},
   "outputs": [
    {
     "data": {
      "text/plain": [
       "\"/home/dabajabaza/jianguoyun/Nutstore/LatticeLab/examples\""
      ]
     },
     "execution_count": 1,
     "metadata": {},
     "output_type": "execute_result"
    }
   ],
   "source": [
    "pwd()"
   ]
  },
  {
   "cell_type": "code",
   "execution_count": null,
   "id": "92d4fdc8-0d10-4025-83d5-c1b8ca5e561e",
   "metadata": {},
   "outputs": [],
   "source": []
  }
 ],
 "metadata": {
  "kernelspec": {
   "display_name": "Julia 1.6.1",
   "language": "julia",
   "name": "julia-1.6"
  },
  "language_info": {
   "file_extension": ".jl",
   "mimetype": "application/julia",
   "name": "julia",
   "version": "1.6.1"
  }
 },
 "nbformat": 4,
 "nbformat_minor": 5
}
